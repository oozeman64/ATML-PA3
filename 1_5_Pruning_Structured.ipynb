{
  "cells": [
    {
      "cell_type": "code",
      "execution_count": 55,
      "id": "kFNirYZ0NQG3",
      "metadata": {
        "id": "kFNirYZ0NQG3"
      },
      "outputs": [],
      "source": [
        "import torch\n",
        "from torch.utils.data import DataLoader, random_split\n",
        "import torchvision\n",
        "import torchvision.transforms as transforms\n",
        "from torchvision import models\n",
        "from torch.optim.lr_scheduler import CosineAnnealingLR\n",
        "import random\n",
        "import numpy as np\n",
        "import os\n",
        "import torch.nn.utils.prune as prune\n",
        "import matplotlib.pyplot as plt\n",
        "import copy\n",
        "import pickle\n",
        "from collections import defaultdict"
      ]
    },
    {
      "cell_type": "code",
      "execution_count": 56,
      "id": "Khx8ZCQNNQ2t",
      "metadata": {
        "colab": {
          "base_uri": "https://localhost:8080/"
        },
        "id": "Khx8ZCQNNQ2t",
        "outputId": "98f190ef-597e-47d8-def6-c5ab848476b0"
      },
      "outputs": [
        {
          "output_type": "stream",
          "name": "stdout",
          "text": [
            "Fixed random seed: 42\n"
          ]
        }
      ],
      "source": [
        "def fix_random_seed(seed=42):\n",
        "    random.seed(seed)\n",
        "    np.random.seed(seed)\n",
        "    os.environ[\"PYTHONHASHSEED\"] = str(seed)\n",
        "    torch.manual_seed(seed)\n",
        "    torch.cuda.manual_seed(seed)\n",
        "    torch.cuda.manual_seed_all(seed)\n",
        "    torch.backends.cudnn.deterministic = True\n",
        "    torch.backends.cudnn.benchmark = False\n",
        "    print(f\"Fixed random seed: {seed}\")\n",
        "\n",
        "fix_random_seed(42)\n",
        "\n",
        "# For deterministic DataLoader behavior\n",
        "def seed_worker(worker_id):\n",
        "    worker_seed = torch.initial_seed() % 2**32\n",
        "    np.random.seed(worker_seed)\n",
        "    random.seed(worker_seed)"
      ]
    },
    {
      "cell_type": "code",
      "execution_count": 57,
      "id": "Ulo-5FXYNR-6",
      "metadata": {
        "colab": {
          "base_uri": "https://localhost:8080/"
        },
        "id": "Ulo-5FXYNR-6",
        "outputId": "eabf2d4a-ad6c-41fc-f153-675b0996b6a5"
      },
      "outputs": [
        {
          "output_type": "stream",
          "name": "stdout",
          "text": [
            "Training set size: 45000\n",
            "Validation set size: 5000\n",
            "Test Set Size: 10000\n",
            "Small Test Size: 2500\n"
          ]
        }
      ],
      "source": [
        "imagenet_mean = [0.485, 0.456, 0.406]\n",
        "imagenet_std = [0.229, 0.224, 0.225]\n",
        "BATCH_SIZE = 128\n",
        "NUM_WORKERS = 4\n",
        "\n",
        "g = torch.Generator()\n",
        "g.manual_seed(42)\n",
        "\n",
        "train_transform = transforms.Compose([\n",
        "    transforms.RandomResizedCrop(224, scale=(0.9, 1.0)),\n",
        "    transforms.RandomHorizontalFlip(),\n",
        "    transforms.ToTensor(),\n",
        "    transforms.Normalize(imagenet_mean, imagenet_std),\n",
        "])\n",
        "\n",
        "test_transform = transforms.Compose([\n",
        "    transforms.Resize(224),\n",
        "    transforms.CenterCrop(224),\n",
        "    transforms.ToTensor(),\n",
        "    transforms.Normalize(imagenet_mean, imagenet_std),\n",
        "])\n",
        "\n",
        "full_train = torchvision.datasets.CIFAR100(root='./data', train=True, download=True)\n",
        "full_test = torchvision.datasets.CIFAR100(root='./data', train=False, download=True)\n",
        "_, small_test_subset = random_split(full_test, [7500, 2500], generator=g)\n",
        "train_subset, val_subset = random_split(full_train, [45000, 5000], generator=g)\n",
        "\n",
        "train_subset.dataset.transform = train_transform\n",
        "val_subset.dataset.transform = test_transform\n",
        "full_test.transform = test_transform\n",
        "small_test_subset.transform = test_transform\n",
        "\n",
        "print(\"Training set size:\", len(train_subset))\n",
        "print(\"Validation set size:\", len(val_subset))\n",
        "print(\"Test Set Size:\", len(full_test))\n",
        "print(\"Small Test Size:\", len(small_test_subset))\n",
        "\n",
        "def get_loader(dataset, shuffle):\n",
        "    return DataLoader(\n",
        "        dataset,\n",
        "        batch_size=BATCH_SIZE,\n",
        "        shuffle=shuffle,\n",
        "        num_workers=NUM_WORKERS,\n",
        "        pin_memory=True,\n",
        "        worker_init_fn=seed_worker,\n",
        "        generator=g\n",
        "    )\n",
        "\n",
        "train_loader = get_loader(train_subset, shuffle=True)\n",
        "val_loader = get_loader(val_subset, shuffle=False)\n",
        "test_loader = get_loader(full_test, shuffle=False)\n",
        "small_test_loader = get_loader(small_test_subset, shuffle=False)"
      ]
    },
    {
      "cell_type": "code",
      "execution_count": 58,
      "id": "29Gbo6ShNTKI",
      "metadata": {
        "id": "29Gbo6ShNTKI"
      },
      "outputs": [],
      "source": [
        "def plot_weight_histograms(model, title):\n",
        "    # Collect (layer_name, weights) pairs\n",
        "    layer_weights = []\n",
        "    for name, module in model.named_modules():\n",
        "        if isinstance(module, (torch.nn.Conv2d, torch.nn.Linear)):\n",
        "            layer_weights.append((name, module.weight.detach().cpu().numpy().flatten()))\n",
        "\n",
        "    # Plot histograms\n",
        "    plt.figure(figsize=(15, 8))\n",
        "    for i, (name, w) in enumerate(layer_weights[:11]):  # limit to first 11 for readability\n",
        "        plt.subplot(5, 6, i + 1)\n",
        "        plt.hist(w, bins=40, color='blue', alpha=0.7)\n",
        "        plt.title(name, fontsize=9)  # <-- actual layer name\n",
        "        plt.tight_layout()\n",
        "    plt.suptitle(title, y=1.02)\n",
        "    plt.show()"
      ]
    },
    {
      "cell_type": "code",
      "execution_count": 59,
      "id": "25FPvA7SNUGX",
      "metadata": {
        "colab": {
          "base_uri": "https://localhost:8080/"
        },
        "id": "25FPvA7SNUGX",
        "outputId": "45eb8e6a-46f2-4aec-a002-e240be193755"
      },
      "outputs": [
        {
          "output_type": "execute_result",
          "data": {
            "text/plain": [
              "VGG(\n",
              "  (features): Sequential(\n",
              "    (0): Conv2d(3, 64, kernel_size=(3, 3), stride=(1, 1), padding=(1, 1))\n",
              "    (1): ReLU(inplace=True)\n",
              "    (2): MaxPool2d(kernel_size=2, stride=2, padding=0, dilation=1, ceil_mode=False)\n",
              "    (3): Conv2d(64, 128, kernel_size=(3, 3), stride=(1, 1), padding=(1, 1))\n",
              "    (4): ReLU(inplace=True)\n",
              "    (5): MaxPool2d(kernel_size=2, stride=2, padding=0, dilation=1, ceil_mode=False)\n",
              "    (6): Conv2d(128, 256, kernel_size=(3, 3), stride=(1, 1), padding=(1, 1))\n",
              "    (7): ReLU(inplace=True)\n",
              "    (8): Conv2d(256, 256, kernel_size=(3, 3), stride=(1, 1), padding=(1, 1))\n",
              "    (9): ReLU(inplace=True)\n",
              "    (10): MaxPool2d(kernel_size=2, stride=2, padding=0, dilation=1, ceil_mode=False)\n",
              "    (11): Conv2d(256, 512, kernel_size=(3, 3), stride=(1, 1), padding=(1, 1))\n",
              "    (12): ReLU(inplace=True)\n",
              "    (13): Conv2d(512, 512, kernel_size=(3, 3), stride=(1, 1), padding=(1, 1))\n",
              "    (14): ReLU(inplace=True)\n",
              "    (15): MaxPool2d(kernel_size=2, stride=2, padding=0, dilation=1, ceil_mode=False)\n",
              "    (16): Conv2d(512, 512, kernel_size=(3, 3), stride=(1, 1), padding=(1, 1))\n",
              "    (17): ReLU(inplace=True)\n",
              "    (18): Conv2d(512, 512, kernel_size=(3, 3), stride=(1, 1), padding=(1, 1))\n",
              "    (19): ReLU(inplace=True)\n",
              "    (20): MaxPool2d(kernel_size=2, stride=2, padding=0, dilation=1, ceil_mode=False)\n",
              "  )\n",
              "  (avgpool): AdaptiveAvgPool2d(output_size=(7, 7))\n",
              "  (classifier): Sequential(\n",
              "    (0): Linear(in_features=25088, out_features=4096, bias=True)\n",
              "    (1): ReLU(inplace=True)\n",
              "    (2): Dropout(p=0.5, inplace=False)\n",
              "    (3): Linear(in_features=4096, out_features=4096, bias=True)\n",
              "    (4): ReLU(inplace=True)\n",
              "    (5): Dropout(p=0.5, inplace=False)\n",
              "    (6): Linear(in_features=4096, out_features=100, bias=True)\n",
              "  )\n",
              ")"
            ]
          },
          "metadata": {},
          "execution_count": 59
        }
      ],
      "source": [
        "vgg11 = models.vgg11(weights=models.VGG11_Weights.IMAGENET1K_V1)\n",
        "vgg11.classifier[6] = torch.nn.Linear(4096, 100)\n",
        "vgg11.classifier[5] = torch.nn.Dropout(p=0.5) # Dropout\n",
        "device = \"cuda\" if torch.cuda.is_available() else \"mps\" if torch.mps.is_available() else \"cpu\"\n",
        "vgg11.load_state_dict(torch.load('models/vgg11_cifar100_baseline_5e.pt', weights_only=True, map_location=device))\n",
        "vgg11.to(device)"
      ]
    },
    {
      "cell_type": "code",
      "execution_count": 60,
      "id": "ILgGQD1XNU41",
      "metadata": {
        "id": "ILgGQD1XNU41"
      },
      "outputs": [],
      "source": [
        "with open('models/sensitivity_dict_structured.pkl', 'rb') as f:\n",
        "    sensitivity_dict = pickle.load(f)"
      ]
    },
    {
      "cell_type": "code",
      "execution_count": 61,
      "id": "PF7IAOIUNxu_",
      "metadata": {
        "id": "PF7IAOIUNxu_"
      },
      "outputs": [],
      "source": [
        "def evaluate(model, test_loader, device):\n",
        "    model.to(device)\n",
        "    model.eval()\n",
        "    correct = 0\n",
        "    total = 0\n",
        "\n",
        "    with torch.no_grad():\n",
        "        for images, labels in test_loader:\n",
        "            images = images.to(device)\n",
        "            labels = labels.to(device)\n",
        "            preds = model(images)\n",
        "            preds = torch.argmax(preds, dim=1)\n",
        "            correct += (preds == labels).sum().item()\n",
        "            total += labels.size(0)\n",
        "    accuracy = correct / total * 100\n",
        "    return accuracy"
      ]
    },
    {
      "cell_type": "code",
      "execution_count": 62,
      "id": "JRSsUB2tNyTe",
      "metadata": {
        "colab": {
          "base_uri": "https://localhost:8080/"
        },
        "id": "JRSsUB2tNyTe",
        "outputId": "f51e55a2-23b0-4d96-edad-189c744d9bf9"
      },
      "outputs": [
        {
          "output_type": "stream",
          "name": "stdout",
          "text": [
            "Base Acc: 71.01%\n",
            "Base Acc (small): 70.64%\n"
          ]
        }
      ],
      "source": [
        "base_acc = evaluate(vgg11, test_loader, device)\n",
        "print(f\"Base Acc: {base_acc:.2f}%\")\n",
        "\n",
        "base_acc = evaluate(vgg11, small_test_loader, device)\n",
        "print(f\"Base Acc (small): {base_acc:.2f}%\")"
      ]
    },
    {
      "cell_type": "code",
      "execution_count": 63,
      "id": "dce873ac",
      "metadata": {
        "colab": {
          "base_uri": "https://localhost:8080/"
        },
        "id": "dce873ac",
        "outputId": "947fe00d-2986-4879-f304-161228ef4eb9"
      },
      "outputs": [
        {
          "output_type": "stream",
          "name": "stdout",
          "text": [
            "\n",
            "Final Channel Pruning Ratios:\n",
            "features.0: 19.73%\n",
            "features.3: 21.37%\n",
            "features.6: 23.58%\n",
            "features.8: 27.55%\n",
            "features.11: 29.30%\n",
            "features.13: 32.76%\n",
            "features.16: 35.81%\n"
          ]
        }
      ],
      "source": [
        "prune_amts = [5, 10, 15, 20, 25, 30, 35, 40, 45, 50, 55, 60]\n",
        "conv_layers = [name for name, module in vgg11.named_modules() if isinstance(module, torch.nn.Conv2d)]\n",
        "\n",
        "desired_channel_prune = 0.3   # 30% of total conv output channels\n",
        "min_layer_prune = 0.05        # don't prune less than 5%\n",
        "max_layer_prune = 0.9         # cap per layer pruning\n",
        "\n",
        "\n",
        "# 1) Gather Conv2d layers and their output channels\n",
        "conv_out_channels = {}\n",
        "conv_order = []\n",
        "for name, module in vgg11.named_modules():\n",
        "    if isinstance(module, torch.nn.Conv2d):\n",
        "        conv_out_channels[name] = module.out_channels\n",
        "        conv_order.append(name)\n",
        "\n",
        "conv_layers = conv_order[:-1]\n",
        "total_channels = sum(conv_out_channels[name] for name in conv_layers)\n",
        "total_channels_to_prune = int(desired_channel_prune * total_channels)\n",
        "\n",
        "R = {}\n",
        "for name in conv_layers:\n",
        "    accs = []\n",
        "    for p in prune_amts:\n",
        "        acc = sensitivity_dict.get((name, p))\n",
        "        if acc is not None:\n",
        "            accs.append(acc)\n",
        "    if not accs or base_acc == 0:\n",
        "        R[name] = 1.0\n",
        "    else:\n",
        "        R[name] = (sum(accs) / len(accs)) / base_acc\n",
        "\n",
        "# 3) Convert to sensitivity (S = 1 / R)\n",
        "S = {n: 1.0 / max(R[n], 1e-6) for n in R}\n",
        "\n",
        "# 4) Apply depth weighting (optional but realistic)\n",
        "depth_weights = {name: 1.0 + (i / len(conv_layers)) for i, name in enumerate(conv_layers)}\n",
        "\n",
        "# 5) Compute importance score (higher → more pruning)\n",
        "score = {n: depth_weights[n] * S[n] for n in conv_layers}\n",
        "\n",
        "# 6) Allocate total channels to prune across layers proportionally to score × out_channels\n",
        "denom = sum(score[n] * conv_out_channels[n] for n in conv_layers)\n",
        "remove_alloc = {}\n",
        "for name in conv_layers:\n",
        "    remove_alloc[name] = total_channels_to_prune * (score[name] * conv_out_channels[name]) / denom\n",
        "\n",
        "# 7) Compute per-layer pruning ratio (fraction of channels)\n",
        "prune_ratio = {}\n",
        "for name in conv_layers:\n",
        "    ratio = remove_alloc[name] / conv_out_channels[name]\n",
        "    ratio = min(max(ratio, min_layer_prune), max_layer_prune)\n",
        "    prune_ratio[name] = ratio\n",
        "\n",
        "print(\"\\nFinal Channel Pruning Ratios:\")\n",
        "for k, v in prune_ratio.items():\n",
        "    print(f\"{k}: {v*100:.2f}%\")"
      ]
    },
    {
      "cell_type": "code",
      "execution_count": 64,
      "id": "cV_t2Ic7NdlZ",
      "metadata": {
        "id": "cV_t2Ic7NdlZ"
      },
      "outputs": [],
      "source": [
        "def prune_layer_structured_L2(model, target_layer, amount=0.3):\n",
        "    \"\"\"\n",
        "    Performs structured channel-wise pruning on a Conv2d layer.\n",
        "    Prunes entire output channels with smallest L2-norms, and adjusts the next Conv2d layer.\n",
        "    \"\"\"\n",
        "    # Convert layer name (like \"features.3\") to module reference\n",
        "    modules = dict(model.named_modules())\n",
        "    if target_layer not in modules or not isinstance(modules[target_layer], torch.nn.Conv2d):\n",
        "        print(f\"Skipping {target_layer} (not Conv2d)\")\n",
        "        return model\n",
        "\n",
        "    conv = modules[target_layer]\n",
        "    with torch.no_grad():\n",
        "        # Compute L2 norm of each output channel (filter)\n",
        "        weight = conv.weight.data\n",
        "        out_channels = weight.shape[0]\n",
        "        num_prune = int(amount * out_channels)\n",
        "        if num_prune == 0:\n",
        "            return model\n",
        "\n",
        "        norms = torch.norm(weight.view(out_channels, -1), p=2, dim=1)\n",
        "        prune_idx = torch.argsort(norms)[:num_prune]\n",
        "        keep_idx = torch.argsort(norms)[num_prune:]\n",
        "\n",
        "        # Prune current layer (reduce output channels)\n",
        "        conv.weight = torch.nn.Parameter(weight[keep_idx].clone())\n",
        "        if conv.bias is not None:\n",
        "            conv.bias = torch.nn.Parameter(conv.bias.data[keep_idx].clone())\n",
        "        conv.out_channels = len(keep_idx)\n",
        "\n",
        "        # Find the next Conv2d and prune corresponding input channels\n",
        "        found = False\n",
        "        prev_name = target_layer\n",
        "        for name, module in modules.items():\n",
        "            if found and isinstance(module, torch.nn.Conv2d):\n",
        "                next_conv = module\n",
        "                next_weight = next_conv.weight.data[:, keep_idx, :, :].clone()\n",
        "                next_conv.weight = torch.nn.Parameter(next_weight)\n",
        "                next_conv.in_channels = len(keep_idx)\n",
        "                break\n",
        "            if name == target_layer:\n",
        "                found = True\n",
        "\n",
        "    return model"
      ]
    },
    {
      "cell_type": "code",
      "execution_count": 65,
      "id": "rmMBreL_Nerf",
      "metadata": {
        "id": "rmMBreL_Nerf"
      },
      "outputs": [],
      "source": [
        "vgg_pruned = copy.deepcopy(vgg11)\n",
        "\n",
        "conv_layers = [name for name, m in vgg_pruned.named_modules() if isinstance(m, torch.nn.Conv2d)]\n",
        "conv_layers = conv_layers[:-1]  # skip last conv\n",
        "\n",
        "for name in conv_layers:\n",
        "    vgg_pruned = prune_layer_structured_L2(vgg_pruned, name, amount=prune_ratio[name])"
      ]
    },
    {
      "cell_type": "code",
      "execution_count": 66,
      "id": "57JW1IR8VOAV",
      "metadata": {
        "colab": {
          "base_uri": "https://localhost:8080/"
        },
        "id": "57JW1IR8VOAV",
        "outputId": "e66a2525-1cd5-4347-d6b7-37516029a659"
      },
      "outputs": [
        {
          "output_type": "stream",
          "name": "stdout",
          "text": [
            "Total channels vgg11: 2240\n",
            "Total channels vgg11_pruned: 1571\n"
          ]
        }
      ],
      "source": [
        "total_base = 0\n",
        "for name, module in vgg11.named_modules():\n",
        "    if name in conv_layers:\n",
        "        total_base += module.out_channels\n",
        "print(f\"Total channels vgg11: {total_base}\")\n",
        "\n",
        "total_pruned = 0\n",
        "for name, module in vgg_pruned.named_modules():\n",
        "    if name in conv_layers:\n",
        "        total_pruned += module.out_channels\n",
        "print(f\"Total channels vgg11_pruned: {total_pruned}\")\n"
      ]
    },
    {
      "cell_type": "code",
      "execution_count": 67,
      "id": "jgbo3td5Ng_y",
      "metadata": {
        "id": "jgbo3td5Ng_y"
      },
      "outputs": [],
      "source": [
        "torch.save(vgg_pruned.state_dict(), \"models/vgg11_cifar100_pruned_structured.pt\")"
      ]
    },
    {
      "cell_type": "code",
      "execution_count": 68,
      "id": "JsF5ZCCDNiXY",
      "metadata": {
        "colab": {
          "base_uri": "https://localhost:8080/",
          "height": 560
        },
        "id": "JsF5ZCCDNiXY",
        "outputId": "41feba97-6e7a-42ee-f9a9-20e1f82f9b87"
      },
      "outputs": [
        {
          "output_type": "display_data",
          "data": {
            "text/plain": [
              "<Figure size 1500x800 with 11 Axes>"
            ],
            "image/png": "[encoded data removed]"
          },
          "metadata": {}
        },
        {
          "output_type": "display_data",
          "data": {
            "text/plain": [
              "<Figure size 1500x800 with 11 Axes>"
            ],
            "image/png": "[encoded data removed]"
          },
          "metadata": {}
        }
      ],
      "source": [
        "plot_weight_histograms(vgg11, \"Pre-Pruning\")\n",
        "plot_weight_histograms(vgg_pruned, \"Structured Pruning\")"
      ]
    },
    {
      "cell_type": "code",
      "execution_count": 69,
      "id": "7eA-dQRvNnee",
      "metadata": {
        "colab": {
          "base_uri": "https://localhost:8080/"
        },
        "id": "7eA-dQRvNnee",
        "outputId": "5576fdfb-011a-4d58-8780-12f7b5cd1b66"
      },
      "outputs": [
        {
          "output_type": "stream",
          "name": "stdout",
          "text": [
            "Post-Structured-Pruning no finetuning accuracy: 49.45%\n",
            "Post-Structured-Pruning no finetuning accuracy (small): 48.60%\n"
          ]
        }
      ],
      "source": [
        "\n",
        "acc = evaluate(vgg_pruned, test_loader, device)\n",
        "print(f\"Post-Structured-Pruning no finetuning accuracy: {acc:.2f}%\")\n",
        "\n",
        "acc = evaluate(vgg_pruned, small_test_loader, device)\n",
        "print(f\"Post-Structured-Pruning no finetuning accuracy (small): {acc:.2f}%\")"
      ]
    }
  ],
  "metadata": {
    "accelerator": "GPU",
    "colab": {
      "gpuType": "T4",
      "provenance": []
    },
    "kernelspec": {
      "display_name": "Python 3",
      "name": "python3"
    },
    "language_info": {
      "codemirror_mode": {
        "name": "ipython",
        "version": 3
      },
      "file_extension": ".py",
      "mimetype": "text/x-python",
      "name": "python",
      "nbconvert_exporter": "python",
      "pygments_lexer": "ipython3",
      "version": "3.13.0"
    }
  },
  "nbformat": 4,
  "nbformat_minor": 5
}