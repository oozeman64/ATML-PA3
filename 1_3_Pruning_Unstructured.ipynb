{
  "cells": [
    {
      "cell_type": "code",
      "source": [
        "import torch\n",
        "from torch.utils.data import DataLoader, random_split\n",
        "import torchvision\n",
        "import torchvision.transforms as transforms\n",
        "from torchvision import models\n",
        "from torch.optim.lr_scheduler import CosineAnnealingLR\n",
        "import random\n",
        "import numpy as np\n",
        "import os\n",
        "import torch.nn.utils.prune as prune\n",
        "import matplotlib.pyplot as plt\n",
        "import copy\n",
        "import pickle\n",
        "from collections import defaultdict"
      ],
      "metadata": {
        "id": "kFNirYZ0NQG3"
      },
      "id": "kFNirYZ0NQG3",
      "execution_count": 71,
      "outputs": []
    },
    {
      "cell_type": "code",
      "source": [
        "def fix_random_seed(seed=42):\n",
        "    random.seed(seed)\n",
        "    np.random.seed(seed)\n",
        "    os.environ[\"PYTHONHASHSEED\"] = str(seed)\n",
        "    torch.manual_seed(seed)\n",
        "    torch.cuda.manual_seed(seed)\n",
        "    torch.cuda.manual_seed_all(seed)\n",
        "    torch.backends.cudnn.deterministic = True\n",
        "    torch.backends.cudnn.benchmark = False\n",
        "    print(f\"Fixed random seed: {seed}\")\n",
        "\n",
        "fix_random_seed(42)\n",
        "\n",
        "# For deterministic DataLoader behavior\n",
        "def seed_worker(worker_id):\n",
        "    worker_seed = torch.initial_seed() % 2**32\n",
        "    np.random.seed(worker_seed)\n",
        "    random.seed(worker_seed)"
      ],
      "metadata": {
        "colab": {
          "base_uri": "https://localhost:8080/"
        },
        "id": "Khx8ZCQNNQ2t",
        "outputId": "22533e8c-fdaa-4c1c-aa65-c4e29f747703"
      },
      "id": "Khx8ZCQNNQ2t",
      "execution_count": 72,
      "outputs": [
        {
          "output_type": "stream",
          "name": "stdout",
          "text": [
            "Fixed random seed: 42\n"
          ]
        }
      ]
    },
    {
      "cell_type": "code",
      "source": [
        "imagenet_mean = [0.485, 0.456, 0.406]\n",
        "imagenet_std = [0.229, 0.224, 0.225]\n",
        "BATCH_SIZE = 128\n",
        "NUM_WORKERS = 4\n",
        "\n",
        "g = torch.Generator()\n",
        "g.manual_seed(42)\n",
        "\n",
        "train_transform = transforms.Compose([\n",
        "    transforms.RandomResizedCrop(224, scale=(0.9, 1.0)),\n",
        "    transforms.RandomHorizontalFlip(),\n",
        "    transforms.ToTensor(),\n",
        "    transforms.Normalize(imagenet_mean, imagenet_std),\n",
        "])\n",
        "\n",
        "test_transform = transforms.Compose([\n",
        "    transforms.Resize(224),\n",
        "    transforms.CenterCrop(224),\n",
        "    transforms.ToTensor(),\n",
        "    transforms.Normalize(imagenet_mean, imagenet_std),\n",
        "])\n",
        "\n",
        "full_train = torchvision.datasets.CIFAR100(root='./data', train=True, download=True)\n",
        "full_test = torchvision.datasets.CIFAR100(root='./data', train=False, download=True)\n",
        "_, small_test_subset = random_split(full_test, [7500, 2500], generator=g)\n",
        "train_subset, val_subset = random_split(full_train, [45000, 5000], generator=g)\n",
        "\n",
        "train_subset.dataset.transform = train_transform\n",
        "val_subset.dataset.transform = test_transform\n",
        "full_test.transform = test_transform\n",
        "small_test_subset.transform = test_transform\n",
        "\n",
        "print(\"Training set size:\", len(train_subset))\n",
        "print(\"Validation set size:\", len(val_subset))\n",
        "print(\"Test Set Size:\", len(full_test))\n",
        "print(\"Small Test Size:\", len(small_test_subset))\n",
        "\n",
        "def get_loader(dataset, shuffle):\n",
        "    return DataLoader(\n",
        "        dataset,\n",
        "        batch_size=BATCH_SIZE,\n",
        "        shuffle=shuffle,\n",
        "        num_workers=NUM_WORKERS,\n",
        "        pin_memory=True,\n",
        "        worker_init_fn=seed_worker,\n",
        "        generator=g\n",
        "    )\n",
        "\n",
        "train_loader = get_loader(train_subset, shuffle=True)\n",
        "val_loader = get_loader(val_subset, shuffle=False)\n",
        "test_loader = get_loader(full_test, shuffle=False)\n",
        "small_test_loader = get_loader(small_test_subset, shuffle=False)"
      ],
      "metadata": {
        "colab": {
          "base_uri": "https://localhost:8080/"
        },
        "id": "Ulo-5FXYNR-6",
        "outputId": "99bbd358-7b1b-4417-ed07-d04c7dd5172e"
      },
      "id": "Ulo-5FXYNR-6",
      "execution_count": 73,
      "outputs": [
        {
          "output_type": "stream",
          "name": "stdout",
          "text": [
            "Training set size: 45000\n",
            "Validation set size: 5000\n",
            "Test Set Size: 10000\n",
            "Small Test Size: 2500\n"
          ]
        },
        {
          "output_type": "stream",
          "name": "stderr",
          "text": [
            "/usr/local/lib/python3.12/dist-packages/torch/utils/data/dataloader.py:627: UserWarning: This DataLoader will create 4 worker processes in total. Our suggested max number of worker in current system is 2, which is smaller than what this DataLoader is going to create. Please be aware that excessive worker creation might get DataLoader running slow or even freeze, lower the worker number to avoid potential slowness/freeze if necessary.\n",
            "  warnings.warn(\n"
          ]
        }
      ]
    },
    {
      "cell_type": "code",
      "source": [
        "def plot_weight_histograms(model, title):\n",
        "    # Collect (layer_name, weights) pairs\n",
        "    layer_weights = []\n",
        "    for name, module in model.named_modules():\n",
        "        if isinstance(module, (torch.nn.Conv2d, torch.nn.Linear)):\n",
        "            layer_weights.append((name, module.weight.detach().cpu().numpy().flatten()))\n",
        "\n",
        "    # Plot histograms\n",
        "    plt.figure(figsize=(15, 8))\n",
        "    for i, (name, w) in enumerate(layer_weights[:11]):  # limit to first 11 for readability\n",
        "        plt.subplot(5, 6, i + 1)\n",
        "        plt.hist(w, bins=40, color='blue', alpha=0.7)\n",
        "        plt.title(name, fontsize=9)  # <-- actual layer name\n",
        "        plt.tight_layout()\n",
        "    plt.suptitle(title, y=1.02)\n",
        "    plt.show()"
      ],
      "metadata": {
        "id": "29Gbo6ShNTKI"
      },
      "id": "29Gbo6ShNTKI",
      "execution_count": 74,
      "outputs": []
    },
    {
      "cell_type": "code",
      "source": [
        "vgg11 = models.vgg11(weights=models.VGG11_Weights.IMAGENET1K_V1)\n",
        "vgg11.classifier[6] = torch.nn.Linear(4096, 100)\n",
        "vgg11.classifier[5] = torch.nn.Dropout(p=0.5) # Dropout\n",
        "device = \"cuda\" if torch.cuda.is_available() else \"mps\" if torch.mps.is_available() else \"cpu\"\n",
        "vgg11.load_state_dict(torch.load('models/vgg11_cifar100_baseline_5e.pt', weights_only=True, map_location=device))\n",
        "vgg11.to(device)"
      ],
      "metadata": {
        "colab": {
          "base_uri": "https://localhost:8080/"
        },
        "id": "25FPvA7SNUGX",
        "outputId": "1fec93e5-41ba-4ad3-a0c0-ef7830c60752"
      },
      "id": "25FPvA7SNUGX",
      "execution_count": 75,
      "outputs": [
        {
          "output_type": "execute_result",
          "data": {
            "text/plain": [
              "VGG(\n",
              "  (features): Sequential(\n",
              "    (0): Conv2d(3, 64, kernel_size=(3, 3), stride=(1, 1), padding=(1, 1))\n",
              "    (1): ReLU(inplace=True)\n",
              "    (2): MaxPool2d(kernel_size=2, stride=2, padding=0, dilation=1, ceil_mode=False)\n",
              "    (3): Conv2d(64, 128, kernel_size=(3, 3), stride=(1, 1), padding=(1, 1))\n",
              "    (4): ReLU(inplace=True)\n",
              "    (5): MaxPool2d(kernel_size=2, stride=2, padding=0, dilation=1, ceil_mode=False)\n",
              "    (6): Conv2d(128, 256, kernel_size=(3, 3), stride=(1, 1), padding=(1, 1))\n",
              "    (7): ReLU(inplace=True)\n",
              "    (8): Conv2d(256, 256, kernel_size=(3, 3), stride=(1, 1), padding=(1, 1))\n",
              "    (9): ReLU(inplace=True)\n",
              "    (10): MaxPool2d(kernel_size=2, stride=2, padding=0, dilation=1, ceil_mode=False)\n",
              "    (11): Conv2d(256, 512, kernel_size=(3, 3), stride=(1, 1), padding=(1, 1))\n",
              "    (12): ReLU(inplace=True)\n",
              "    (13): Conv2d(512, 512, kernel_size=(3, 3), stride=(1, 1), padding=(1, 1))\n",
              "    (14): ReLU(inplace=True)\n",
              "    (15): MaxPool2d(kernel_size=2, stride=2, padding=0, dilation=1, ceil_mode=False)\n",
              "    (16): Conv2d(512, 512, kernel_size=(3, 3), stride=(1, 1), padding=(1, 1))\n",
              "    (17): ReLU(inplace=True)\n",
              "    (18): Conv2d(512, 512, kernel_size=(3, 3), stride=(1, 1), padding=(1, 1))\n",
              "    (19): ReLU(inplace=True)\n",
              "    (20): MaxPool2d(kernel_size=2, stride=2, padding=0, dilation=1, ceil_mode=False)\n",
              "  )\n",
              "  (avgpool): AdaptiveAvgPool2d(output_size=(7, 7))\n",
              "  (classifier): Sequential(\n",
              "    (0): Linear(in_features=25088, out_features=4096, bias=True)\n",
              "    (1): ReLU(inplace=True)\n",
              "    (2): Dropout(p=0.5, inplace=False)\n",
              "    (3): Linear(in_features=4096, out_features=4096, bias=True)\n",
              "    (4): ReLU(inplace=True)\n",
              "    (5): Dropout(p=0.5, inplace=False)\n",
              "    (6): Linear(in_features=4096, out_features=100, bias=True)\n",
              "  )\n",
              ")"
            ]
          },
          "metadata": {},
          "execution_count": 75
        }
      ]
    },
    {
      "cell_type": "code",
      "source": [
        "with open('models/sensitivity_dict_unstructured.pkl', 'rb') as f:\n",
        "    sensitivity_dict = pickle.load(f)"
      ],
      "metadata": {
        "id": "ILgGQD1XNU41"
      },
      "id": "ILgGQD1XNU41",
      "execution_count": 76,
      "outputs": []
    },
    {
      "cell_type": "code",
      "source": [
        "def evaluate(model, test_loader, device):\n",
        "    model.to(device)\n",
        "    model.eval()\n",
        "    correct = 0\n",
        "    total = 0\n",
        "\n",
        "    with torch.no_grad():\n",
        "        for images, labels in test_loader:\n",
        "            images = images.to(device)\n",
        "            labels = labels.to(device)\n",
        "            preds = model(images)\n",
        "            preds = torch.argmax(preds, dim=1)\n",
        "            correct += (preds == labels).sum().item()\n",
        "            total += labels.size(0)\n",
        "    accuracy = correct / total * 100\n",
        "    return accuracy"
      ],
      "metadata": {
        "id": "PF7IAOIUNxu_"
      },
      "id": "PF7IAOIUNxu_",
      "execution_count": 77,
      "outputs": []
    },
    {
      "cell_type": "code",
      "source": [
        "base_acc = evaluate(vgg11, test_loader, device)\n",
        "print(f\"Base Acc: {base_acc:.2f}%\")\n",
        "\n",
        "base_acc = evaluate(vgg11, small_test_loader, device)\n",
        "print(f\"Base Acc (small): {base_acc:.2f}%\")"
      ],
      "metadata": {
        "colab": {
          "base_uri": "https://localhost:8080/"
        },
        "id": "JRSsUB2tNyTe",
        "outputId": "6e292226-42f2-4910-bd1d-955c1fd2f660"
      },
      "id": "JRSsUB2tNyTe",
      "execution_count": 78,
      "outputs": [
        {
          "output_type": "stream",
          "name": "stdout",
          "text": [
            "Base Acc: 71.01%\n",
            "Base Acc (small): 70.64%\n"
          ]
        }
      ]
    },
    {
      "cell_type": "code",
      "source": [
        "prune_amts = [10, 20, 30, 40, 50, 60, 70, 80, 90]\n",
        "desired_prune = 0.7\n",
        "max_layer_prune = 0.9\n",
        "min_layer_prune = 0.1  # don't prune below 10% to avoid imbalance\n",
        "\n",
        "# 1) gather layers and parameter counts\n",
        "layer_param_count = {}\n",
        "conv_order = []  # track order for depth weighting\n",
        "for name, module in vgg11.named_modules():\n",
        "    if isinstance(module, (torch.nn.Conv2d, torch.nn.Linear)):\n",
        "        nparams = sum(p.numel() for p in module.parameters())\n",
        "        layer_param_count[name] = nparams\n",
        "        conv_order.append(name)\n",
        "\n",
        "total_params = sum(layer_param_count.values())\n",
        "total_remove_target = int(desired_prune * total_params)\n",
        "\n",
        "# 2) compute robustness R_l (lower R = more sensitive)\n",
        "R = {}\n",
        "for name in layer_param_count:\n",
        "    accs = []\n",
        "    for p in prune_amts:\n",
        "        acc = sensitivity_dict.get((name, p))\n",
        "        if acc is not None:\n",
        "            accs.append(acc)\n",
        "    if not accs or base_acc == 0:\n",
        "        R[name] = 1.0\n",
        "    else:\n",
        "        R[name] = (sum(accs) / len(accs)) / base_acc\n",
        "\n",
        "print(\"Robustness:\")\n",
        "print(R)\n",
        "\n",
        "# 3) convert robustness to sensitivity (S = 1 / R) with clamping\n",
        "S = {n: 1.0 / max(R[n], 1e-6) for n in R}\n",
        "\n",
        "# 4) apply depth weighting (deeper layers get more pruning)\n",
        "depth_weights = {}\n",
        "for i, name in enumerate(conv_order):\n",
        "    depth_weights[name] = 1.0 + (i / len(conv_order))  # linear increase by depth\n",
        "\n",
        "# 5) combine into pruning importance score\n",
        "# lower S -> less pruning; higher depth -> more pruning\n",
        "score = {n: depth_weights[n] / S[n] for n in layer_param_count}\n",
        "\n",
        "# 6) allocate pruning proportionally to score * param_count\n",
        "denom = sum(score[n] * layer_param_count[n] for n in score)\n",
        "remove_alloc = {}\n",
        "for name in score:\n",
        "    remove_alloc[name] = total_remove_target * (score[name] * layer_param_count[name]) / denom\n",
        "\n",
        "# 7) compute final per-layer pruning %\n",
        "prune_pct = {}\n",
        "for name in remove_alloc:\n",
        "    pct = remove_alloc[name] / layer_param_count[name]\n",
        "    pct = min(max(pct, min_layer_prune), max_layer_prune)\n",
        "    prune_pct[name] = pct\n",
        "\n",
        "print(\"\\nAdjusted Prune Percentages:\")\n",
        "for k, v in prune_pct.items():\n",
        "    print(f\"{k}: {v*100:.2f}%\")"
      ],
      "metadata": {
        "colab": {
          "base_uri": "https://localhost:8080/"
        },
        "id": "Ead-0DLhNcR3",
        "outputId": "91197d67-d880-4c49-d7cb-538623ce4722"
      },
      "id": "Ead-0DLhNcR3",
      "execution_count": 79,
      "outputs": [
        {
          "output_type": "stream",
          "name": "stdout",
          "text": [
            "Robustness:\n",
            "{'features.0': 0.8225745564363911, 'features.3': 0.9906883100541084, 'features.6': 0.9939599848999621, 'features.8': 0.9871649679124198, 'features.11': 0.9837674594186486, 'features.13': 0.9731345161696238, 'features.16': 0.974707436768592, 'features.18': 0.9646407449351956, 'classifier.0': 0.9986787466968667, 'classifier.3': 0.9940858185478798, 'classifier.6': 1.0010066691833395}\n",
            "\n",
            "Adjusted Prune Percentages:\n",
            "features.0: 33.54%\n",
            "features.3: 44.07%\n",
            "features.6: 47.90%\n",
            "features.8: 51.23%\n",
            "features.11: 54.70%\n",
            "features.13: 57.72%\n",
            "features.16: 61.42%\n",
            "features.18: 64.37%\n",
            "classifier.0: 70.34%\n",
            "classifier.3: 73.70%\n",
            "classifier.6: 77.92%\n"
          ]
        }
      ]
    },
    {
      "cell_type": "code",
      "source": [
        "def prune_layer_unstructured_L2(module, amount=0.3):\n",
        "    # Only prune Conv2d or Linear layers\n",
        "    if not isinstance(module, (torch.nn.Conv2d, torch.nn.Linear)):\n",
        "        return 0\n",
        "\n",
        "    with torch.no_grad():\n",
        "        # Flatten weights\n",
        "        weights = module.weight.data.view(-1)\n",
        "        num_params = weights.numel()\n",
        "        num_prune = int(amount * num_params)\n",
        "\n",
        "        if num_prune == 0:\n",
        "            return 0\n",
        "\n",
        "        # Compute L2 magnitudes (since weights are scalars, this is just abs)\n",
        "        magnitudes = weights.abs()\n",
        "\n",
        "        # Get threshold\n",
        "        threshold = torch.topk(magnitudes, num_prune, largest=False).values.max()\n",
        "\n",
        "        # Zero out the smallest weights\n",
        "        mask = magnitudes > threshold\n",
        "        module.weight.data.view(-1)[~mask] = 0\n",
        "\n",
        "        return num_prune"
      ],
      "metadata": {
        "id": "cV_t2Ic7NdlZ"
      },
      "id": "cV_t2Ic7NdlZ",
      "execution_count": 80,
      "outputs": []
    },
    {
      "cell_type": "code",
      "source": [
        "# 5) apply pruning (use a copy of the model)\n",
        "vgg_pruned = copy.deepcopy(vgg11)\n",
        "\n",
        "for name, module in vgg_pruned.named_modules():\n",
        "    if name in prune_pct:\n",
        "        p = prune_pct[name]\n",
        "        if p <= 0:\n",
        "            continue\n",
        "        if isinstance(module, (torch.nn.Conv2d, torch.nn.Linear)):\n",
        "            try:\n",
        "                prune_layer_unstructured_L2(module, amount=p)\n",
        "            except Exception as e:\n",
        "                print(f\"Cannot prune layer {name}: {e}\")\n"
      ],
      "metadata": {
        "id": "rmMBreL_Nerf"
      },
      "id": "rmMBreL_Nerf",
      "execution_count": 81,
      "outputs": []
    },
    {
      "cell_type": "code",
      "source": [
        "def count_nonzero_params(model):\n",
        "    total, nonzero = 0, 0\n",
        "    for p in model.parameters():\n",
        "        total += p.numel()\n",
        "        nonzero += p.nonzero().size(0)\n",
        "    print(f\"Sparsity: {(1 - nonzero / total) * 100:.2f}% ({nonzero}/{total} nonzero)\")\n",
        "    return nonzero, total\n",
        "\n",
        "count_nonzero_params(vgg_pruned)"
      ],
      "metadata": {
        "colab": {
          "base_uri": "https://localhost:8080/"
        },
        "id": "57JW1IR8VOAV",
        "outputId": "37d6664b-027d-4022-9e84-0d110b357dac"
      },
      "id": "57JW1IR8VOAV",
      "execution_count": 82,
      "outputs": [
        {
          "output_type": "stream",
          "name": "stdout",
          "text": [
            "Sparsity: 69.99% (38760344/129176036 nonzero)\n"
          ]
        },
        {
          "output_type": "execute_result",
          "data": {
            "text/plain": [
              "(38760344, 129176036)"
            ]
          },
          "metadata": {},
          "execution_count": 82
        }
      ]
    },
    {
      "cell_type": "code",
      "source": [
        "# Print per-layer pruning summary\n",
        "print(f\"{'Layer':<35} {'Type':<15} {'Total Params':>15} {'Pruned %':>10} {'Pruned Params':>15}\")\n",
        "print(\"=\" * 95)\n",
        "\n",
        "total_params_before = sum(layer_param_count.values())\n",
        "total_pruned_params = 0\n",
        "\n",
        "for name, module in vgg_pruned.named_modules():\n",
        "    if name in prune_pct and isinstance(module, (torch.nn.Conv2d, torch.nn.Linear)):\n",
        "        total = layer_param_count[name]\n",
        "        pct = prune_pct[name]\n",
        "        pruned = int(total * pct)\n",
        "        total_pruned_params += pruned\n",
        "        print(f\"{name:<35} {type(module).__name__:<15} {total:>15,} {pct*100:>9.1f}% {pruned:>15,}\")\n",
        "\n",
        "print(\"=\" * 95)\n",
        "print(f\"{'Total model parameters before pruning:':<60} {total_params_before:,}\")\n",
        "print(f\"{'Total parameters pruned:':<60} {total_pruned_params:,}\")\n",
        "print(f\"{'Remaining parameters after pruning:':<60} {total_params_before - total_pruned_params:,}\")\n",
        "print(f\"{'Overall prune percentage:':<60} {(total_pruned_params / total_params_before) * 100:.2f}%\")\n"
      ],
      "metadata": {
        "colab": {
          "base_uri": "https://localhost:8080/"
        },
        "id": "d2mIBNTpNfwt",
        "outputId": "35ae1a7f-582f-4c68-ae48-2e37f3cf66c0"
      },
      "id": "d2mIBNTpNfwt",
      "execution_count": 83,
      "outputs": [
        {
          "output_type": "stream",
          "name": "stdout",
          "text": [
            "Layer                               Type               Total Params   Pruned %   Pruned Params\n",
            "===============================================================================================\n",
            "features.0                          Conv2d                    1,792      33.5%             601\n",
            "features.3                          Conv2d                   73,856      44.1%          32,547\n",
            "features.6                          Conv2d                  295,168      47.9%         141,382\n",
            "features.8                          Conv2d                  590,080      51.2%         302,303\n",
            "features.11                         Conv2d                1,180,160      54.7%         645,564\n",
            "features.13                         Conv2d                2,359,808      57.7%       1,362,023\n",
            "features.16                         Conv2d                2,359,808      61.4%       1,449,489\n",
            "features.18                         Conv2d                2,359,808      64.4%       1,518,902\n",
            "classifier.0                        Linear              102,764,544      70.3%      72,283,283\n",
            "classifier.3                        Linear               16,781,312      73.7%      12,367,871\n",
            "classifier.6                        Linear                  409,700      77.9%         319,254\n",
            "===============================================================================================\n",
            "Total model parameters before pruning:                       129,176,036\n",
            "Total parameters pruned:                                     90,423,219\n",
            "Remaining parameters after pruning:                          38,752,817\n",
            "Overall prune percentage:                                    70.00%\n"
          ]
        }
      ]
    },
    {
      "cell_type": "code",
      "source": [
        "torch.save(vgg_pruned.state_dict(), \"models/vgg11_cifar100_pruned_unstructured_rev2.pt\")"
      ],
      "metadata": {
        "id": "jgbo3td5Ng_y"
      },
      "id": "jgbo3td5Ng_y",
      "execution_count": 84,
      "outputs": []
    },
    {
      "cell_type": "code",
      "source": [
        "plot_weight_histograms(vgg11, \"Pre-Pruning\")\n",
        "plot_weight_histograms(vgg_pruned, \"Unstructured Pruning\")"
      ],
      "metadata": {
        "colab": {
          "base_uri": "https://localhost:8080/",
          "height": 539
        },
        "id": "JsF5ZCCDNiXY",
        "outputId": "26c10e51-7f96-496e-9845-1dcc569fe303"
      },
      "id": "JsF5ZCCDNiXY",
      "execution_count": 85,
      "outputs": [
        {
          "output_type": "display_data",
          "data": {
            "text/plain": [
              "<Figure size 1500x800 with 11 Axes>"
            ],
            "image/png": "[encoded data removed]"
          },
          "metadata": {}
        },
        {
          "output_type": "display_data",
          "data": {
            "text/plain": [
              "<Figure size 1500x800 with 11 Axes>"
            ],
            "image/png": "[encoded data removed]"
          },
          "metadata": {}
        }
      ]
    },
    {
      "cell_type": "code",
      "source": [
        "\n",
        "acc = evaluate(vgg_pruned, test_loader, device)\n",
        "print(f\"Post-Pruning no finetuning accuracy: {acc:.2f}%\")\n",
        "\n",
        "acc = evaluate(vgg_pruned, small_test_loader, device)\n",
        "print(f\"Post-Pruning no finetuning accuracy (small): {acc:.2f}%\")"
      ],
      "metadata": {
        "colab": {
          "base_uri": "https://localhost:8080/"
        },
        "id": "7eA-dQRvNnee",
        "outputId": "a42ec9fe-b385-4a03-9611-e12fb9daf48c"
      },
      "id": "7eA-dQRvNnee",
      "execution_count": 87,
      "outputs": [
        {
          "output_type": "stream",
          "name": "stdout",
          "text": [
            "Post-Pruning no finetuning accuracy: 69.19%\n",
            "Post-Pruning no finetuning accuracy (small): 68.80%\n"
          ]
        }
      ]
    }
  ],
  "metadata": {
    "accelerator": "GPU",
    "colab": {
      "gpuType": "T4",
      "provenance": []
    },
    "kernelspec": {
      "display_name": "Python 3",
      "name": "python3"
    },
    "language_info": {
      "codemirror_mode": {
        "name": "ipython",
        "version": 3
      },
      "file_extension": ".py",
      "mimetype": "text/x-python",
      "name": "python",
      "nbconvert_exporter": "python",
      "pygments_lexer": "ipython3",
      "version": "3.13.0"
    }
  },
  "nbformat": 4,
  "nbformat_minor": 5
}