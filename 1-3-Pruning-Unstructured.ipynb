{
  "cells": [
    {
      "cell_type": "code",
      "execution_count": 47,
      "id": "8745ab19",
      "metadata": {
        "id": "8745ab19"
      },
      "outputs": [],
      "source": [
        "import torch\n",
        "from torch.utils.data import DataLoader, random_split\n",
        "import torchvision\n",
        "import torchvision.transforms as transforms\n",
        "from torchvision import models\n",
        "from torch.optim.lr_scheduler import CosineAnnealingLR\n",
        "import random\n",
        "import numpy as np\n",
        "import os\n",
        "import torch.nn.utils.prune as prune\n",
        "import matplotlib.pyplot as plt\n",
        "import copy\n",
        "import pickle\n",
        "from collections import defaultdict"
      ]
    },
    {
      "cell_type": "code",
      "execution_count": 48,
      "id": "c64655ad",
      "metadata": {
        "colab": {
          "base_uri": "https://localhost:8080/"
        },
        "id": "c64655ad",
        "outputId": "be38d760-d6a7-413c-e7ea-5d4b7e00dd6d"
      },
      "outputs": [
        {
          "output_type": "stream",
          "name": "stdout",
          "text": [
            "Fixed random seed: 42\n"
          ]
        }
      ],
      "source": [
        "def fix_random_seed(seed=42):\n",
        "    random.seed(seed)\n",
        "    np.random.seed(seed)\n",
        "    os.environ[\"PYTHONHASHSEED\"] = str(seed)\n",
        "    torch.manual_seed(seed)\n",
        "    torch.cuda.manual_seed(seed)\n",
        "    torch.cuda.manual_seed_all(seed)\n",
        "    torch.backends.cudnn.deterministic = True\n",
        "    torch.backends.cudnn.benchmark = False\n",
        "    print(f\"Fixed random seed: {seed}\")\n",
        "\n",
        "fix_random_seed(42)\n",
        "\n",
        "# For deterministic DataLoader behavior\n",
        "def seed_worker(worker_id):\n",
        "    worker_seed = torch.initial_seed() % 2**32\n",
        "    np.random.seed(worker_seed)\n",
        "    random.seed(worker_seed)"
      ]
    },
    {
      "cell_type": "code",
      "execution_count": 49,
      "id": "c271b69a",
      "metadata": {
        "colab": {
          "base_uri": "https://localhost:8080/"
        },
        "id": "c271b69a",
        "outputId": "2a4cba38-0743-4a97-8213-bf1ecb7f2b5a"
      },
      "outputs": [
        {
          "output_type": "stream",
          "name": "stdout",
          "text": [
            "Training set size: 47500\n",
            "Validation set size: 2500\n",
            "Test set size: 10000\n"
          ]
        }
      ],
      "source": [
        "imagenet_mean = [0.485, 0.456, 0.406]\n",
        "imagenet_std = [0.229, 0.224, 0.225]\n",
        "BATCH_SIZE = 128\n",
        "NUM_WORKERS = 4\n",
        "VAL_RATIO = 0.05\n",
        "\n",
        "g = torch.Generator()\n",
        "g.manual_seed(42)\n",
        "\n",
        "transform = transforms.Compose([\n",
        "    transforms.RandomResizedCrop(224, scale=(0.9, 1.0)),\n",
        "    transforms.RandomHorizontalFlip(),\n",
        "    transforms.ToTensor(),\n",
        "    transforms.Normalize(imagenet_mean, imagenet_std),\n",
        "])\n",
        "\n",
        "def split_train_val(dataset, ratio=VAL_RATIO, generator=g):\n",
        "    total_size = len(dataset)\n",
        "    val_size = int(ratio * total_size)\n",
        "    train_size = total_size - val_size\n",
        "    return random_split(dataset, [train_size, val_size], generator=generator)\n",
        "\n",
        "train_dataset = torchvision.datasets.CIFAR100(\n",
        "    root='./data', train=True, download=True, transform=transform\n",
        ")\n",
        "\n",
        "train_dataset, val_dataset = split_train_val(train_dataset, VAL_RATIO, g)\n",
        "\n",
        "test_dataset = torchvision.datasets.CIFAR100(\n",
        "    root='./data', train=False, download=True, transform=transform\n",
        ")\n",
        "\n",
        "print(\"Training set size:\", len(train_dataset))\n",
        "print(\"Validation set size:\", len(val_dataset))\n",
        "print(\"Test set size:\", len(test_dataset))\n",
        "\n",
        "def get_loader(dataset, shuffle):\n",
        "    return DataLoader(\n",
        "        dataset,\n",
        "        batch_size=BATCH_SIZE,\n",
        "        shuffle=shuffle,\n",
        "        num_workers=NUM_WORKERS,\n",
        "        pin_memory=True,\n",
        "        worker_init_fn=seed_worker,\n",
        "        generator=g\n",
        "    )\n",
        "\n",
        "train_loader = get_loader(train_dataset, shuffle=True)\n",
        "val_loader = get_loader(val_dataset, shuffle=False)\n",
        "test_loader = get_loader(test_dataset, shuffle=False)"
      ]
    },
    {
      "cell_type": "code",
      "execution_count": 50,
      "id": "47c224ee",
      "metadata": {
        "id": "47c224ee"
      },
      "outputs": [],
      "source": [
        "def plot_weight_histograms(model, title):\n",
        "    # Collect (layer_name, weights) pairs\n",
        "    layer_weights = []\n",
        "    for name, module in model.named_modules():\n",
        "        if isinstance(module, (torch.nn.Conv2d, torch.nn.Linear)):\n",
        "            layer_weights.append((name, module.weight.detach().cpu().numpy().flatten()))\n",
        "\n",
        "    # Plot histograms\n",
        "    plt.figure(figsize=(15, 8))\n",
        "    for i, (name, w) in enumerate(layer_weights[:11]):  # limit to first 11 for readability\n",
        "        plt.subplot(5, 6, i + 1)\n",
        "        plt.hist(w, bins=40, color='blue', alpha=0.7)\n",
        "        plt.title(name, fontsize=9)  # <-- actual layer name\n",
        "        plt.tight_layout()\n",
        "    plt.suptitle(title, y=1.02)\n",
        "    plt.show()"
      ]
    },
    {
      "cell_type": "code",
      "source": [
        "vgg11 = models.vgg11(weights=models.VGG11_Weights.IMAGENET1K_V1)\n",
        "vgg11.classifier[6] = torch.nn.Linear(4096, 100)\n",
        "vgg11.classifier[5] = torch.nn.Dropout(p=0.5) # Dropout\n",
        "device = \"cuda\" if torch.cuda.is_available() else \"mps\" if torch.mps.is_available() else \"cpu\"\n",
        "vgg11.load_state_dict(torch.load('models/vgg11_cifar100_baseline.pt', weights_only=True, map_location=device))\n",
        "vgg11.to(device)"
      ],
      "metadata": {
        "colab": {
          "base_uri": "https://localhost:8080/"
        },
        "id": "OMQS42hfjqs3",
        "outputId": "565f0b2c-aaae-4d3f-afb4-d1ea50a1a367"
      },
      "id": "OMQS42hfjqs3",
      "execution_count": 51,
      "outputs": [
        {
          "output_type": "execute_result",
          "data": {
            "text/plain": [
              "VGG(\n",
              "  (features): Sequential(\n",
              "    (0): Conv2d(3, 64, kernel_size=(3, 3), stride=(1, 1), padding=(1, 1))\n",
              "    (1): ReLU(inplace=True)\n",
              "    (2): MaxPool2d(kernel_size=2, stride=2, padding=0, dilation=1, ceil_mode=False)\n",
              "    (3): Conv2d(64, 128, kernel_size=(3, 3), stride=(1, 1), padding=(1, 1))\n",
              "    (4): ReLU(inplace=True)\n",
              "    (5): MaxPool2d(kernel_size=2, stride=2, padding=0, dilation=1, ceil_mode=False)\n",
              "    (6): Conv2d(128, 256, kernel_size=(3, 3), stride=(1, 1), padding=(1, 1))\n",
              "    (7): ReLU(inplace=True)\n",
              "    (8): Conv2d(256, 256, kernel_size=(3, 3), stride=(1, 1), padding=(1, 1))\n",
              "    (9): ReLU(inplace=True)\n",
              "    (10): MaxPool2d(kernel_size=2, stride=2, padding=0, dilation=1, ceil_mode=False)\n",
              "    (11): Conv2d(256, 512, kernel_size=(3, 3), stride=(1, 1), padding=(1, 1))\n",
              "    (12): ReLU(inplace=True)\n",
              "    (13): Conv2d(512, 512, kernel_size=(3, 3), stride=(1, 1), padding=(1, 1))\n",
              "    (14): ReLU(inplace=True)\n",
              "    (15): MaxPool2d(kernel_size=2, stride=2, padding=0, dilation=1, ceil_mode=False)\n",
              "    (16): Conv2d(512, 512, kernel_size=(3, 3), stride=(1, 1), padding=(1, 1))\n",
              "    (17): ReLU(inplace=True)\n",
              "    (18): Conv2d(512, 512, kernel_size=(3, 3), stride=(1, 1), padding=(1, 1))\n",
              "    (19): ReLU(inplace=True)\n",
              "    (20): MaxPool2d(kernel_size=2, stride=2, padding=0, dilation=1, ceil_mode=False)\n",
              "  )\n",
              "  (avgpool): AdaptiveAvgPool2d(output_size=(7, 7))\n",
              "  (classifier): Sequential(\n",
              "    (0): Linear(in_features=25088, out_features=4096, bias=True)\n",
              "    (1): ReLU(inplace=True)\n",
              "    (2): Dropout(p=0.5, inplace=False)\n",
              "    (3): Linear(in_features=4096, out_features=4096, bias=True)\n",
              "    (4): ReLU(inplace=True)\n",
              "    (5): Dropout(p=0.5, inplace=False)\n",
              "    (6): Linear(in_features=4096, out_features=100, bias=True)\n",
              "  )\n",
              ")"
            ]
          },
          "metadata": {},
          "execution_count": 51
        }
      ]
    },
    {
      "cell_type": "code",
      "execution_count": 52,
      "id": "5e589676",
      "metadata": {
        "id": "5e589676"
      },
      "outputs": [],
      "source": [
        "with open('models/sensitivity_dict.pkl', 'rb') as f:\n",
        "    sensitivity_dict = pickle.load(f)"
      ]
    },
    {
      "cell_type": "code",
      "execution_count": 53,
      "id": "1d461dc8",
      "metadata": {
        "colab": {
          "base_uri": "https://localhost:8080/"
        },
        "id": "1d461dc8",
        "outputId": "1489e2ab-0e56-4a91-f37c-d4a24a7e2320"
      },
      "outputs": [
        {
          "output_type": "stream",
          "name": "stdout",
          "text": [
            "Robustness\n",
            "{'features.0': 0.834952120383037, 'features.3': 0.9886548913043479, 'features.6': 0.9909090909090909, 'features.8': 0.9766689143627781, 'features.11': 0.9795254237288135, 'features.13': 0.9643724696356277, 'features.16': 0.9839346494213752, 'features.18': 0.9775051124744375, 'classifier.0': 0.9998640380693403, 'classifier.3': 1.0038303693570454, 'classifier.6': 0.9894594594594595}\n",
            "\n",
            "Prune Pct\n",
            "{'features.0': 0.5852404316529262, 'features.3': 0.692974843967458, 'features.6': 0.6945548731900995, 'features.8': 0.6845735498718776, 'features.11': 0.6865757542301734, 'features.13': 0.675954640542547, 'features.16': 0.6896662992860818, 'features.18': 0.6851596636523786, 'classifier.0': 0.700831636867386, 'classifier.3': 0.7036117453050174, 'classifier.6': 0.6935387874594222}\n"
          ]
        }
      ],
      "source": [
        "prune_amts = [0,10,20,30,40,50,60,70,80,90]\n",
        "\n",
        "desired_prune = 0.7  # 70%\n",
        "max_layer_prune = 0.9  # don't prune more than 90% of any single layer\n",
        "\n",
        "# 1) gather layers, param counts and baseline accuracies\n",
        "layer_param_count = {}\n",
        "baseline_acc = {}\n",
        "for name, module in vgg11.named_modules():\n",
        "    if isinstance(module, (torch.nn.Conv2d, torch.nn.Linear)):\n",
        "        nparams = sum(p.numel() for p in module.parameters())\n",
        "        layer_param_count[name] = nparams\n",
        "        baseline_acc[name] = sensitivity_dict.get((name, 0), None)  # accuracy at 0% prune\n",
        "\n",
        "total_params = sum(layer_param_count.values())\n",
        "total_remove_target = int(desired_prune * total_params)\n",
        "\n",
        "# 2) compute robustness R_l using average-normalized method\n",
        "R = {}\n",
        "for name in layer_param_count:\n",
        "    accs = []\n",
        "    for p in prune_amts:\n",
        "        acc = sensitivity_dict.get((name, p))\n",
        "        if acc is not None:\n",
        "            accs.append(acc)\n",
        "    acc0 = baseline_acc.get(name)\n",
        "    if not accs or acc0 is None or acc0 == 0:\n",
        "        R[name] = 0.0\n",
        "    else:\n",
        "        R[name] = (sum(accs) / len(accs)) / acc0  # ~1 if robust, <1 if sensitive\n",
        "\n",
        "print(\"Robustness\")\n",
        "print(R)\n",
        "\n",
        "# avoid zeros by adding tiny epsilon so every layer gets something\n",
        "eps = 1e-8\n",
        "weighted = {name: max(R[name], eps) for name in R}\n",
        "\n",
        "# 3) allocate removals proportional to weighted * param_count\n",
        "denom = sum(weighted[n] * layer_param_count[n] for n in weighted)\n",
        "remove_alloc = {}\n",
        "for name in weighted:\n",
        "    remove_alloc[name] = total_remove_target * (weighted[name] * layer_param_count[name]) / denom\n",
        "\n",
        "# 4) compute per-layer prune percent and clamp\n",
        "prune_pct = {}\n",
        "for name in remove_alloc:\n",
        "    pct = remove_alloc[name] / layer_param_count[name]\n",
        "    pct = min(max(pct, 0.0), max_layer_prune)\n",
        "    prune_pct[name] = pct\n",
        "print()\n",
        "print(\"Prune Pct\")\n",
        "print(prune_pct)"
      ]
    },
    {
      "cell_type": "code",
      "source": [
        "def prune_layer_unstructured_L2(module, amount=0.3):\n",
        "    # Only prune Conv2d or Linear layers\n",
        "    if not isinstance(module, (torch.nn.Conv2d, torch.nn.Linear)):\n",
        "        return 0\n",
        "\n",
        "    with torch.no_grad():\n",
        "        # Flatten weights\n",
        "        weights = module.weight.data.view(-1)\n",
        "        num_params = weights.numel()\n",
        "        num_prune = int(amount * num_params)\n",
        "\n",
        "        if num_prune == 0:\n",
        "            return 0\n",
        "\n",
        "        # Compute L2 magnitudes (since weights are scalars, this is just abs)\n",
        "        magnitudes = weights.abs()\n",
        "\n",
        "        # Get threshold\n",
        "        threshold = torch.topk(magnitudes, num_prune, largest=False).values.max()\n",
        "\n",
        "        # Zero out the smallest weights\n",
        "        mask = magnitudes > threshold\n",
        "        module.weight.data.view(-1)[~mask] = 0\n",
        "\n",
        "        return num_prune"
      ],
      "metadata": {
        "id": "l9rtqFuobMAn"
      },
      "id": "l9rtqFuobMAn",
      "execution_count": 54,
      "outputs": []
    },
    {
      "cell_type": "code",
      "source": [
        "# 5) apply pruning (use a copy of the model)\n",
        "vgg_pruned = copy.deepcopy(vgg11)\n",
        "\n",
        "for name, module in vgg_pruned.named_modules():\n",
        "    if name in prune_pct:\n",
        "        p = prune_pct[name]\n",
        "        if p <= 0:\n",
        "            continue\n",
        "        if isinstance(module, (torch.nn.Conv2d, torch.nn.Linear)):\n",
        "            try:\n",
        "                prune_layer_unstructured_L2(module)\n",
        "            except Exception as e:\n",
        "                print(f\"Cannot prune layer {name}: {e}\")\n",
        "\n",
        "# 6) Optional: remove reparameterization to finalize model\n",
        "for name, module in vgg_pruned.named_modules():\n",
        "    if isinstance(module, (torch.nn.Conv2d, torch.nn.Linear)):\n",
        "        try:\n",
        "            prune.remove(module, 'weight')\n",
        "        except Exception:\n",
        "            pass\n"
      ],
      "metadata": {
        "id": "Z0yX_x_qbVQG"
      },
      "id": "Z0yX_x_qbVQG",
      "execution_count": 55,
      "outputs": []
    },
    {
      "cell_type": "code",
      "source": [
        "# Print per-layer pruning summary\n",
        "print(f\"{'Layer':<35} {'Type':<15} {'Total Params':>15} {'Pruned %':>10} {'Pruned Params':>15}\")\n",
        "print(\"=\" * 95)\n",
        "\n",
        "total_params_before = sum(layer_param_count.values())\n",
        "total_pruned_params = 0\n",
        "\n",
        "for name, module in vgg_pruned.named_modules():\n",
        "    if name in prune_pct and isinstance(module, (torch.nn.Conv2d, torch.nn.Linear)):\n",
        "        total = layer_param_count[name]\n",
        "        pct = prune_pct[name]\n",
        "        pruned = int(total * pct)\n",
        "        total_pruned_params += pruned\n",
        "        print(f\"{name:<35} {type(module).__name__:<15} {total:>15,} {pct*100:>9.1f}% {pruned:>15,}\")\n",
        "\n",
        "print(\"=\" * 95)\n",
        "print(f\"{'Total model parameters before pruning:':<60} {total_params_before:,}\")\n",
        "print(f\"{'Total parameters pruned:':<60} {total_pruned_params:,}\")\n",
        "print(f\"{'Remaining parameters after pruning:':<60} {total_params_before - total_pruned_params:,}\")\n",
        "print(f\"{'Overall prune percentage:':<60} {(total_pruned_params / total_params_before) * 100:.2f}%\")\n"
      ],
      "metadata": {
        "colab": {
          "base_uri": "https://localhost:8080/"
        },
        "id": "fIvjlzFhbWQV",
        "outputId": "ea5849a9-9ef2-4bc6-dcd5-b015235fddb6"
      },
      "id": "fIvjlzFhbWQV",
      "execution_count": 56,
      "outputs": [
        {
          "output_type": "stream",
          "name": "stdout",
          "text": [
            "Layer                               Type               Total Params   Pruned %   Pruned Params\n",
            "===============================================================================================\n",
            "features.0                          Conv2d                    1,792      58.5%           1,048\n",
            "features.3                          Conv2d                   73,856      69.3%          51,180\n",
            "features.6                          Conv2d                  295,168      69.5%         205,010\n",
            "features.8                          Conv2d                  590,080      68.5%         403,953\n",
            "features.11                         Conv2d                1,180,160      68.7%         810,269\n",
            "features.13                         Conv2d                2,359,808      67.6%       1,595,123\n",
            "features.16                         Conv2d                2,359,808      69.0%       1,627,480\n",
            "features.18                         Conv2d                2,359,808      68.5%       1,616,845\n",
            "classifier.0                        Linear              102,764,544      70.1%      72,020,643\n",
            "classifier.3                        Linear               16,781,312      70.4%      11,807,528\n",
            "classifier.6                        Linear                  409,700      69.4%         284,142\n",
            "===============================================================================================\n",
            "Total model parameters before pruning:                       129,176,036\n",
            "Total parameters pruned:                                     90,423,221\n",
            "Remaining parameters after pruning:                          38,752,815\n",
            "Overall prune percentage:                                    70.00%\n"
          ]
        }
      ]
    },
    {
      "cell_type": "code",
      "source": [
        "torch.save(vgg_pruned.state_dict(), \"models/vgg11_cifar100_pruned_unstructured.pt\")"
      ],
      "metadata": {
        "id": "0jod31TEr_VB"
      },
      "id": "0jod31TEr_VB",
      "execution_count": 57,
      "outputs": []
    },
    {
      "cell_type": "code",
      "source": [
        "plot_weight_histograms(vgg11, \"Pre-Pruning\")\n",
        "plot_weight_histograms(vgg_pruned, \"Unstructured Pruning\")"
      ],
      "metadata": {
        "colab": {
          "base_uri": "https://localhost:8080/",
          "height": 531
        },
        "id": "sidVbIfSbZXw",
        "outputId": "61db8190-4d5e-4f12-ba07-207abee7989f"
      },
      "id": "sidVbIfSbZXw",
      "execution_count": 58,
      "outputs": [
        {
          "output_type": "display_data",
          "data": {
            "text/plain": [
              "<Figure size 1500x800 with 11 Axes>"
            ],
            "image/png": "[encoded data removed]"
          },
          "metadata": {}
        },
        {
          "output_type": "display_data",
          "data": {
            "text/plain": [
              "<Figure size 1500x800 with 11 Axes>"
            ],
            "image/png": "[encoded data removed]"
          },
          "metadata": {}
        }
      ]
    },
    {
      "cell_type": "code",
      "source": [
        "def train_epoch(model, loader, criterion, optimizer, device):\n",
        "    model.to(device)\n",
        "    model.train()\n",
        "    running_loss, correct, total = 0.0, 0, 0\n",
        "\n",
        "    for inputs, labels in loader:\n",
        "        inputs, labels = inputs.to(device), labels.to(device)\n",
        "\n",
        "        optimizer.zero_grad()\n",
        "        outputs = model(inputs)\n",
        "        loss = criterion(outputs, labels)\n",
        "        loss.backward()\n",
        "        optimizer.step()\n",
        "\n",
        "        running_loss += loss.item() * inputs.size(0)\n",
        "        _, predicted = outputs.max(1)\n",
        "        total += labels.size(0)\n",
        "        correct += predicted.eq(labels).sum().item()\n",
        "\n",
        "    avg_loss = running_loss / total\n",
        "    accuracy = 100. * correct / total\n",
        "    return avg_loss, accuracy"
      ],
      "metadata": {
        "id": "DXj4aJEEowfn"
      },
      "id": "DXj4aJEEowfn",
      "execution_count": 59,
      "outputs": []
    },
    {
      "cell_type": "code",
      "source": [
        "def evaluate(model, test_loader, device):\n",
        "    model.to(device)\n",
        "    model.eval()\n",
        "    correct = 0\n",
        "    total = 0\n",
        "\n",
        "    with torch.no_grad():\n",
        "        for images, labels in test_loader:\n",
        "            images = images.to(device)\n",
        "            labels = labels.to(device)\n",
        "            preds = model(images)\n",
        "            preds = torch.argmax(preds, dim=1)\n",
        "            correct += (preds == labels).sum().item()\n",
        "            total += labels.size(0)\n",
        "    accuracy = correct / total * 100\n",
        "    return accuracy"
      ],
      "metadata": {
        "id": "9OigEpWRox8r"
      },
      "id": "9OigEpWRox8r",
      "execution_count": 60,
      "outputs": []
    },
    {
      "cell_type": "code",
      "source": [
        "acc = evaluate(vgg_pruned, test_loader, device)\n",
        "print(f\"Post-Pruning no finetuning accuracy: {acc:.2f}%\")"
      ],
      "metadata": {
        "colab": {
          "base_uri": "https://localhost:8080/"
        },
        "id": "htpXJRlmozgp",
        "outputId": "b2f81ece-a0ff-4a3c-9843-cc8a46d833c5"
      },
      "id": "htpXJRlmozgp",
      "execution_count": 61,
      "outputs": [
        {
          "output_type": "stream",
          "name": "stdout",
          "text": [
            "Post-Pruning no finetuning accuracy: 72.03%\n"
          ]
        }
      ]
    },
    {
      "cell_type": "code",
      "source": [
        "print(\"Finetuning...\")\n",
        "base_lr = 0.04\n",
        "weight_decay = 5e-4\n",
        "num_epochs = 5\n",
        "optim = torch.optim.SGD(\n",
        "    vgg_pruned.parameters(),\n",
        "    lr=base_lr,\n",
        "    momentum=0.9,\n",
        "    weight_decay=weight_decay\n",
        ")\n",
        "\n",
        "scheduler = CosineAnnealingLR(optim, T_max=num_epochs, eta_min=1e-5)\n",
        "\n",
        "criterion = torch.nn.CrossEntropyLoss()"
      ],
      "metadata": {
        "colab": {
          "base_uri": "https://localhost:8080/"
        },
        "id": "-diKYpXdo0kQ",
        "outputId": "653a1003-c458-4389-f62c-981bd8f9573a"
      },
      "id": "-diKYpXdo0kQ",
      "execution_count": 62,
      "outputs": [
        {
          "output_type": "stream",
          "name": "stdout",
          "text": [
            "Finetuning...\n"
          ]
        }
      ]
    },
    {
      "cell_type": "code",
      "source": [
        "best_val = 0\n",
        "for epoch in range(num_epochs):\n",
        "    train_loss, train_acc = train_epoch(vgg_pruned, train_loader, criterion, optim, device)\n",
        "    scheduler.step()\n",
        "    val_acc = evaluate(vgg_pruned, val_loader, device)\n",
        "    print(f\"Epoch {epoch+1}/{num_epochs} | Loss: {train_loss:.4f} | Train Acc: {train_acc:.2f}% | Val Acc: {val_acc:.2f}\")\n",
        "    if val_acc > best_val:\n",
        "      best_val = val_acc\n",
        "      torch.save(vgg_pruned.state_dict(), \"models/vgg11_cifar100_pruned_unstructured_finetuned.pt\")"
      ],
      "metadata": {
        "colab": {
          "base_uri": "https://localhost:8080/"
        },
        "id": "Ms2h20LCo1fV",
        "outputId": "bc98d5cc-1e9b-4038-c689-408fe82e04a7"
      },
      "id": "Ms2h20LCo1fV",
      "execution_count": 63,
      "outputs": [
        {
          "output_type": "stream",
          "name": "stdout",
          "text": [
            "Epoch 1/5 | Loss: 1.3435 | Train Acc: 61.91% | Val Acc: 55.96\n",
            "Epoch 2/5 | Loss: 1.2118 | Train Acc: 65.52% | Val Acc: 59.28\n",
            "Epoch 3/5 | Loss: 0.8457 | Train Acc: 75.08% | Val Acc: 64.40\n",
            "Epoch 4/5 | Loss: 0.4930 | Train Acc: 84.89% | Val Acc: 71.20\n",
            "Epoch 5/5 | Loss: 0.2602 | Train Acc: 91.86% | Val Acc: 72.84\n"
          ]
        }
      ]
    },
    {
      "cell_type": "code",
      "source": [
        "acc = evaluate(vgg_pruned, test_loader, device)\n",
        "print(f\"Post-Pruning Finetuned Accuracy: {acc:.2f}%\")"
      ],
      "metadata": {
        "colab": {
          "base_uri": "https://localhost:8080/"
        },
        "id": "si3Jftjmo7v5",
        "outputId": "c0b75949-802c-4290-bcf3-3d75981b961b"
      },
      "id": "si3Jftjmo7v5",
      "execution_count": 64,
      "outputs": [
        {
          "output_type": "stream",
          "name": "stdout",
          "text": [
            "Post-Pruning Finetuned Accuracy: 72.76%\n"
          ]
        }
      ]
    },
    {
      "cell_type": "code",
      "source": [
        "def print_zero_weights(model):\n",
        "    print(\"\\n=== Zero Weights per Layer ===\")\n",
        "    for name, module in model.named_modules():\n",
        "        if isinstance(module, (torch.nn.Conv2d, torch.nn.Linear)):\n",
        "            weights = module.weight.detach().cpu()\n",
        "            zero_count = (weights == 0).sum().item()\n",
        "            total = weights.numel()\n",
        "            print(f\"{name:<20} {zero_count:>10} / {total:<10} ({100*zero_count/total:6.2f}%)\")\n",
        "print_zero_weights(vgg11)\n"
      ],
      "metadata": {
        "colab": {
          "base_uri": "https://localhost:8080/"
        },
        "id": "2BboDzvGv9rc",
        "outputId": "fc3ad370-bef4-426b-ba0c-de4933b4a464"
      },
      "id": "2BboDzvGv9rc",
      "execution_count": 65,
      "outputs": [
        {
          "output_type": "stream",
          "name": "stdout",
          "text": [
            "\n",
            "=== Zero Weights per Layer ===\n",
            "features.0                    0 / 1728       (  0.00%)\n",
            "features.3                    0 / 73728      (  0.00%)\n",
            "features.6                    0 / 294912     (  0.00%)\n",
            "features.8                    0 / 589824     (  0.00%)\n",
            "features.11                   0 / 1179648    (  0.00%)\n",
            "features.13                   0 / 2359296    (  0.00%)\n",
            "features.16                   0 / 2359296    (  0.00%)\n",
            "features.18                   0 / 2359296    (  0.00%)\n",
            "classifier.0                  0 / 102760448  (  0.00%)\n",
            "classifier.3                  0 / 16777216   (  0.00%)\n",
            "classifier.6                  0 / 409600     (  0.00%)\n"
          ]
        }
      ]
    }
  ],
  "metadata": {
    "kernelspec": {
      "display_name": "Python 3",
      "name": "python3"
    },
    "language_info": {
      "codemirror_mode": {
        "name": "ipython",
        "version": 3
      },
      "file_extension": ".py",
      "mimetype": "text/x-python",
      "name": "python",
      "nbconvert_exporter": "python",
      "pygments_lexer": "ipython3",
      "version": "3.13.0"
    },
    "colab": {
      "provenance": [],
      "gpuType": "T4"
    },
    "accelerator": "GPU"
  },
  "nbformat": 4,
  "nbformat_minor": 5
}