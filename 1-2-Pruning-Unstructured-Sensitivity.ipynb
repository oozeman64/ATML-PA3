{
  "cells": [
    {
      "cell_type": "code",
      "execution_count": null,
      "id": "8745ab19",
      "metadata": {
        "id": "8745ab19"
      },
      "outputs": [],
      "source": [
        "import torch\n",
        "from torch.utils.data import DataLoader, random_split\n",
        "import torchvision\n",
        "import torchvision.transforms as transforms\n",
        "from torchvision import models\n",
        "from torch.optim.lr_scheduler import CosineAnnealingLR\n",
        "from torch.utils.data import Subset\n",
        "import random\n",
        "import numpy as np\n",
        "import os\n",
        "import torch.nn.utils.prune as prune\n",
        "import matplotlib.pyplot as plt\n",
        "import copy\n",
        "import pickle"
      ]
    },
    {
      "cell_type": "code",
      "execution_count": null,
      "id": "c64655ad",
      "metadata": {
        "colab": {
          "base_uri": "https://localhost:8080/"
        },
        "id": "c64655ad",
        "outputId": "4cc46b4a-bd31-44be-b695-217e6efda7f8"
      },
      "outputs": [],
      "source": [
        "def fix_random_seed(seed=42):\n",
        "    random.seed(seed)\n",
        "    np.random.seed(seed)\n",
        "    os.environ[\"PYTHONHASHSEED\"] = str(seed)\n",
        "    torch.manual_seed(seed)\n",
        "    torch.cuda.manual_seed(seed)\n",
        "    torch.cuda.manual_seed_all(seed)\n",
        "    torch.backends.cudnn.deterministic = True\n",
        "    torch.backends.cudnn.benchmark = False\n",
        "    print(f\"Fixed random seed: {seed}\")\n",
        "\n",
        "fix_random_seed(42)\n",
        "\n",
        "# For deterministic DataLoader behavior\n",
        "def seed_worker(worker_id):\n",
        "    worker_seed = torch.initial_seed() % 2**32\n",
        "    np.random.seed(worker_seed)\n",
        "    random.seed(worker_seed)"
      ]
    },
    {
      "cell_type": "code",
      "execution_count": null,
      "id": "c271b69a",
      "metadata": {
        "id": "c271b69a"
      },
      "outputs": [],
      "source": [
        "def plot_weight_histograms(model, title):\n",
        "    weights = []\n",
        "    for module in model.modules():\n",
        "        if isinstance(module, (torch.nn.Conv2d, torch.nn.Linear)):\n",
        "            weights.append(module.weight.detach().cpu().numpy().flatten())\n",
        "    plt.figure(figsize=(15, 8))\n",
        "    for i, w in enumerate(weights[:11]):\n",
        "        plt.subplot(5, 6, i + 1)\n",
        "        plt.hist(w, bins=40, color='blue', alpha=0.7)\n",
        "        plt.title(f\"Layer {i+1}\")\n",
        "        plt.tight_layout()\n",
        "    plt.suptitle(title, y=1)\n",
        "    plt.show()"
      ]
    },
    {
      "cell_type": "code",
      "execution_count": null,
      "id": "47c224ee",
      "metadata": {
        "colab": {
          "base_uri": "https://localhost:8080/"
        },
        "id": "47c224ee",
        "outputId": "0c9af6c3-075c-434a-c641-6b9f89cca0e2"
      },
      "outputs": [],
      "source": [
        "vgg11 = models.vgg11(weights=models.VGG11_Weights.IMAGENET1K_V1)\n",
        "vgg11.classifier[6] = torch.nn.Linear(4096, 100)\n",
        "vgg11.classifier[5] = torch.nn.Dropout(p=0.5) # Dropout\n",
        "device = \"cuda\" if torch.cuda.is_available() else \"mps\" if torch.mps.is_available() else \"cpu\"\n",
        "vgg11.load_state_dict(torch.load('models/vgg11_cifar100_baseline_5e.pt', weights_only=True, map_location=device))\n",
        "vgg11.to(device)\n"
      ]
    },
    {
      "cell_type": "code",
      "execution_count": null,
      "id": "OMQS42hfjqs3",
      "metadata": {
        "colab": {
          "base_uri": "https://localhost:8080/"
        },
        "id": "OMQS42hfjqs3",
        "outputId": "29ffd9e0-79b3-4073-933e-8d72dd00bcfe"
      },
      "outputs": [],
      "source": [
        "imagenet_mean = [0.485, 0.456, 0.406]\n",
        "imagenet_std = [0.229, 0.224, 0.225]\n",
        "BATCH_SIZE = 128\n",
        "NUM_WORKERS = 4\n",
        "\n",
        "g = torch.Generator()\n",
        "g.manual_seed(42)\n",
        "\n",
        "train_transform = transforms.Compose([\n",
        "    transforms.RandomResizedCrop(224, scale=(0.9, 1.0)),\n",
        "    transforms.RandomHorizontalFlip(),\n",
        "    transforms.ToTensor(),\n",
        "    transforms.Normalize(imagenet_mean, imagenet_std),\n",
        "])\n",
        "\n",
        "test_transform = transforms.Compose([\n",
        "    transforms.Resize(224),\n",
        "    transforms.CenterCrop(224),\n",
        "    transforms.ToTensor(),\n",
        "    transforms.Normalize(imagenet_mean, imagenet_std),\n",
        "])\n",
        "\n",
        "full_train = torchvision.datasets.CIFAR100(root='./data', train=True, download=True)\n",
        "full_test = torchvision.datasets.CIFAR100(root='./data', train=False, download=True)\n",
        "_, small_test_subset = random_split(full_test, [7500, 2500], generator=g)\n",
        "train_subset, val_subset = random_split(full_train, [45000, 5000], generator=g)\n",
        "\n",
        "train_subset.dataset.transform = train_transform\n",
        "val_subset.dataset.transform = test_transform\n",
        "full_test.transform = test_transform\n",
        "small_test_subset.transform = test_transform\n",
        "\n",
        "print(\"Training set size:\", len(train_subset))\n",
        "print(\"Validation set size:\", len(val_subset))\n",
        "print(\"Test Set Size:\", len(full_test))\n",
        "print(\"Small Test Size:\", len(small_test_subset))\n",
        "\n",
        "def get_loader(dataset, shuffle):\n",
        "    return DataLoader(\n",
        "        dataset,\n",
        "        batch_size=BATCH_SIZE,\n",
        "        shuffle=shuffle,\n",
        "        num_workers=NUM_WORKERS,\n",
        "        pin_memory=True,\n",
        "        worker_init_fn=seed_worker,\n",
        "        generator=g\n",
        "    )\n",
        "\n",
        "train_loader = get_loader(train_subset, shuffle=True)\n",
        "val_loader = get_loader(val_subset, shuffle=False)\n",
        "test_loader = get_loader(full_test, shuffle=False)\n",
        "small_test_loader = get_loader(small_test_subset, shuffle=False)"
      ]
    },
    {
      "cell_type": "code",
      "execution_count": null,
      "id": "5e589676",
      "metadata": {
        "id": "5e589676"
      },
      "outputs": [],
      "source": [
        "def evaluate(model, test_loader, device):\n",
        "    model.to(device)\n",
        "    model.eval()\n",
        "    correct = 0\n",
        "    total = 0\n",
        "\n",
        "    with torch.no_grad():\n",
        "        for images, labels in test_loader:\n",
        "            images = images.to(device)\n",
        "            labels = labels.to(device)\n",
        "            preds = model(images)\n",
        "            preds = torch.argmax(preds, dim=1)\n",
        "            correct += (preds == labels).sum().item()\n",
        "            total += labels.size(0)\n",
        "    accuracy = correct / total * 100\n",
        "    return accuracy"
      ]
    },
    {
      "cell_type": "code",
      "execution_count": null,
      "id": "1d461dc8",
      "metadata": {
        "id": "1d461dc8"
      },
      "outputs": [],
      "source": [
        "def prune_layer_unstructured_L2(model, target_layer, amount=0.3):\n",
        "  if amount == 0:\n",
        "    return model\n",
        "  for name, module in model.named_modules():\n",
        "      if name == target_layer and isinstance(module, (torch.nn.Conv2d, torch.nn.Linear)) and amount > 0:\n",
        "          with torch.no_grad():\n",
        "              weights = module.weight.data\n",
        "              num_params = weights.numel()\n",
        "              num_prune = int(amount * num_params)\n",
        "              if num_prune == 0:\n",
        "                  continue\n",
        "\n",
        "              # Compute L2 magnitude (same as abs for scalars)\n",
        "              magnitudes = weights.abs().view(-1)\n",
        "              threshold = torch.topk(magnitudes, num_prune, largest=False).values.max()\n",
        "\n",
        "              # Zero out smallest weights\n",
        "              mask = (magnitudes > threshold).float()\n",
        "              module.weight.data = (weights.view(-1) * mask).view_as(weights)\n",
        "          break\n",
        "  return model\n"
      ]
    },
    {
      "cell_type": "code",
      "execution_count": null,
      "id": "l9rtqFuobMAn",
      "metadata": {
        "id": "l9rtqFuobMAn"
      },
      "outputs": [],
      "source": [
        "layer_names = []\n",
        "for name, module in vgg11.named_modules():\n",
        "    if isinstance(module, (torch.nn.Conv2d, torch.nn.Linear)):\n",
        "        layer_names.append(name)\n"
      ]
    },
    {
      "cell_type": "code",
      "execution_count": null,
      "id": "Z0yX_x_qbVQG",
      "metadata": {
        "colab": {
          "base_uri": "https://localhost:8080/"
        },
        "id": "Z0yX_x_qbVQG",
        "outputId": "be318b20-7c16-405c-d4e3-123addf58e14"
      },
      "outputs": [],
      "source": [
        "prune_amts = [10,20,30,40,50,60,70,80,90]\n",
        "sensitivity_dict = {}\n",
        "for layer in layer_names:\n",
        "  print(f\"Layer {layer}\")\n",
        "  for perc in prune_amts:\n",
        "    vgg11_copy = copy.deepcopy(vgg11)\n",
        "    vg11_pruned = prune_layer_unstructured_L2(vgg11_copy, layer, perc/100)\n",
        "    acc = evaluate(vg11_pruned, small_test_loader, device)\n",
        "    print(f\"{perc}% pruning: {acc:.2f}% Accuracy\")\n",
        "    sensitivity_dict[(layer, perc)] = acc"
      ]
    },
    {
      "cell_type": "code",
      "execution_count": null,
      "id": "fIvjlzFhbWQV",
      "metadata": {
        "colab": {
          "base_uri": "https://localhost:8080/",
          "height": 1000
        },
        "id": "fIvjlzFhbWQV",
        "outputId": "50acf07f-939d-4cba-f0f9-87ed1a419822"
      },
      "outputs": [],
      "source": [
        "# Separate conv and linear layer names\n",
        "conv_layers = [name for name, module in vgg11.named_modules() if isinstance(module, torch.nn.Conv2d)]\n",
        "linear_layers = [name for name, module in vgg11.named_modules() if isinstance(module, torch.nn.Linear)]\n",
        "\n",
        "# --- Plot for Conv layers ---\n",
        "plt.figure(figsize=(10, 6))\n",
        "for layer in conv_layers:\n",
        "    accs = [sensitivity_dict.get((layer, p), None) for p in prune_amts]\n",
        "    plt.plot(prune_amts, accs, marker='o', label=layer)\n",
        "\n",
        "plt.title(\"Pruning Sensitivity (Conv2d Layers)\")\n",
        "plt.xlabel(\"Pruning Percentage (%)\")\n",
        "plt.ylabel(\"Accuracy (%)\")\n",
        "plt.legend(bbox_to_anchor=(1.05, 1), loc='upper left')\n",
        "plt.grid(True)\n",
        "plt.tight_layout()\n",
        "plt.show()\n",
        "\n",
        "# --- Plot for Linear layers ---\n",
        "plt.figure(figsize=(8, 5))\n",
        "for layer in linear_layers:\n",
        "    accs = [sensitivity_dict.get((layer, p), None) for p in prune_amts]\n",
        "    plt.plot(prune_amts, accs, marker='o', label=layer)\n",
        "\n",
        "plt.title(\"Pruning Sensitivity (Linear Layers)\")\n",
        "plt.xlabel(\"Pruning Percentage (%)\")\n",
        "plt.ylabel(\"Accuracy (%)\")\n",
        "plt.legend(bbox_to_anchor=(1.05, 1), loc='upper left')\n",
        "plt.grid(True)\n",
        "plt.tight_layout()\n",
        "plt.show()"
      ]
    },
    {
      "cell_type": "code",
      "execution_count": null,
      "id": "sidVbIfSbZXw",
      "metadata": {
        "id": "sidVbIfSbZXw"
      },
      "outputs": [],
      "source": [
        "# Save the dictionary to a file\n",
        "with open('sensitivity_dict_unstructured.pkl', 'wb') as f:\n",
        "    pickle.dump(sensitivity_dict, f)"
      ]
    }
  ],
  "metadata": {
    "accelerator": "GPU",
    "colab": {
      "gpuType": "T4",
      "provenance": []
    },
    "kernelspec": {
      "display_name": "Python 3",
      "name": "python3"
    },
    "language_info": {
      "codemirror_mode": {
        "name": "ipython",
        "version": 3
      },
      "file_extension": ".py",
      "mimetype": "text/x-python",
      "name": "python",
      "nbconvert_exporter": "python",
      "pygments_lexer": "ipython3",
      "version": "3.13.0"
    }
  },
  "nbformat": 4,
  "nbformat_minor": 5
}
